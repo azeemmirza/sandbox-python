{
 "cells": [
  {
   "cell_type": "markdown",
   "id": "89f5fe31",
   "metadata": {},
   "source": [
    "**Collection Data Types:**\n",
    "1. **list** - List/Array\n",
    "2. **tuple** - Tuple\n",
    "3. **set** - Set\n",
    "4. **dict** - Dictionary"
   ]
  },
  {
   "cell_type": "code",
   "execution_count": 31,
   "id": "8d3bfff6",
   "metadata": {},
   "outputs": [
    {
     "name": "stdout",
     "output_type": "stream",
     "text": [
      "[1, 2, 3, 4, 5]\n",
      "<class 'list'>\n",
      "(1, 2, 3, 4, 5)\n",
      "<class 'tuple'>\n",
      "{1, 2, 3, 4, 5}\n",
      "<class 'set'>\n",
      "{'name': 'Andrie', 'age': 35}\n",
      "<class 'dict'>\n"
     ]
    }
   ],
   "source": [
    "listVal = [1, 2, 3, 4, 5]\n",
    "\n",
    "# prints out the list value\n",
    "print(listVal)\n",
    "# prints out the type of the list variable\n",
    "print(type(listVal))\n",
    "\n",
    "tupleVal = (1, 2, 3, 4, 5)\n",
    "\n",
    "# prints out the tuple value\n",
    "print(tupleVal)\n",
    "# prints out the type of the tuple variable\n",
    "print(type(tupleVal))\n",
    "\n",
    "setVal = {1, 2, 3, 4, 5}\n",
    "\n",
    "# prints out the set value\n",
    "print(setVal)\n",
    "# prints out the type of the set variable\n",
    "print(type(setVal))\n",
    "\n",
    "dictVal = {'name': 'Andrie', 'age': 35}\n",
    "\n",
    "# prints out the dictionary value\n",
    "print(dictVal)\n",
    "# prints out the type of the dictionary variable\n",
    "print(type(dictVal))"
   ]
  },
  {
   "cell_type": "code",
   "execution_count": 38,
   "id": "e3744ce4",
   "metadata": {},
   "outputs": [
    {
     "name": "stdout",
     "output_type": "stream",
     "text": [
      "regular list: []\n",
      "single type list: [12, 23, 45, 78]\n",
      "multiple type list: [13, 14.2, True, 'string']\n",
      "nested list: [[12, 13], [14, 15], [12, 789]]\n",
      "\n",
      "Accessing the nested list 15\n",
      "Accessing last element (-1): 78\n",
      "Accessing second last element (-2): 45\n"
     ]
    }
   ],
   "source": [
    "# Regular List\n",
    "reg_list = []\n",
    "\n",
    "# Single Type List\n",
    "single_type_list = [12, 23, 45, 78]\n",
    "\n",
    "# Multiple Type List\n",
    "multiple_type_list = [13, 14.2, True, 'string']\n",
    "\n",
    "# Nested Listr\n",
    "nested_list = [[12, 13], [14, 15], [12, 789]]\n",
    "\n",
    "print(f'regular list: {reg_list}')\n",
    "print(f'single type list: {single_type_list}')\n",
    "print(f'multiple type list: {multiple_type_list}')\n",
    "print(f'nested list: {nested_list}\\n')\n",
    "print(f'Accessing the nested list { nested_list[1][1] }')\n",
    "\n",
    "\n",
    "# Accessing list last element\n",
    "print(f'Accessing last element (-1): {single_type_list[-1]}')\n",
    "print(f'Accessing second last element (-2): {single_type_list[-2]}')\n",
    "\n",
    "\n"
   ]
  },
  {
   "cell_type": "markdown",
   "id": "e160bd84",
   "metadata": {},
   "source": [
    "Positive indices: Start from 0 for the first element, and increment by 1.\n",
    "\n",
    "Negative indices: Start from -1 for the last element, and decrease by 1."
   ]
  },
  {
   "cell_type": "code",
   "execution_count": 39,
   "id": "e0b3a2fd",
   "metadata": {},
   "outputs": [
    {
     "name": "stdout",
     "output_type": "stream",
     "text": [
      "after modifying index [1] element: [12, 15, 14, 56, 78, 89, 90, 101, 112, 213, 345, 435, 567, 657, 765, 890, 987]\n"
     ]
    }
   ],
   "source": [
    "m_list = [12, 13, 14, 56, 78, 89, 90, 101, 112, 213, 345, 435, 567, 657, 765, 890, 987]\n",
    "\n",
    "# directly modifying from index\n",
    "m_list[1] = 15\n",
    "print(f'after modifying index [1] element: {m_list}') "
   ]
  },
  {
   "cell_type": "markdown",
   "id": "e2ce2394",
   "metadata": {},
   "source": [
    "**LIST METHODS:**\n"
   ]
  },
  {
   "cell_type": "code",
   "execution_count": 40,
   "id": "a18dcd20",
   "metadata": {},
   "outputs": [
    {
     "name": "stdout",
     "output_type": "stream",
     "text": [
      "after appending 1001: [12, 15, 14, 56, 78, 89, 90, 101, 112, 213, 345, 435, 567, 657, 765, 890, 987, 1001]\n",
      "after inserting 23 at pos 2 [12, 15, 23, 14, 56, 78, 89, 90, 101, 112, 213, 345, 435, 567, 657, 765, 890, 987, 1001]\n",
      "after removing the element/vale 23: [12, 15, 14, 56, 78, 89, 90, 101, 112, 213, 345, 435, 567, 657, 765, 890, 987, 1001]\n",
      "after extending the list [23, 45, 78] [12, 15, 14, 56, 78, 89, 90, 101, 112, 213, 345, 435, 567, 657, 765, 890, 987, 1001, 23, 45, 78]\n",
      "after popping the last element: [12, 15, 14, 56, 78, 89, 90, 101, 112, 213, 345, 435, 567, 657, 765, 890, 987, 1001, 23, 45]; last_ele: 78\n",
      "index of element 89 is 5\n",
      "303 is not in list\n",
      "index of not found element is 303 is not in list\n",
      "count of 89: 4\n",
      "reversing the list list.reverse(): [89, 89, 89, 45, 23, 1001, 987, 890, 765, 657, 567, 435, 345, 213, 112, 101, 90, 89, 78, 56, 14, 15, 12]\n",
      "list.clear(): []\n"
     ]
    }
   ],
   "source": [
    "# append - adds an element to the end of the list\n",
    "m_list.append(1001)\n",
    "print(f'after appending 1001: {m_list}')\n",
    "\n",
    "# insert - inserts an element on the specific index\n",
    "m_list.insert(2, 23)\n",
    "print(f'after inserting 23 at pos 2 { m_list}')\n",
    "\n",
    "# remove - removes the first occurrence of the element\n",
    "m_list.remove(23)\n",
    "print(f'after removing the element/vale 23: {m_list}')\n",
    "\n",
    "# extend - adds all the elements to the list (aka append) (accepts an array)\n",
    "m_list.extend([23, 45, 78])\n",
    "print(f'after extending the list [23, 45, 78] {m_list}')\n",
    "\n",
    "\n",
    "# pop - pops out the last element of the list and returns it to the catching var\n",
    "last_ele = m_list.pop()\n",
    "print(f'after popping the last element: { m_list}; last_ele: {last_ele}')\n",
    "\n",
    "# index - returns the index of the first occurrence of the element in the list\n",
    "recorded_index = m_list.index(89)\n",
    "print(f'index of element 89 is { recorded_index}')\n",
    "\n",
    "try:\n",
    "  not_found_index = m_list.index(303)\n",
    "except Exception as e:\n",
    "  print(e)\n",
    "  print(f'index of not found element is { e }')\n",
    "\n",
    "# count - returns the number of the occurrences of the specified element\n",
    "m_list.extend([89, 89, 89]) # just adding multiple same elements to check count\n",
    "eighty_nine_count = m_list.count(89)\n",
    "print(f'count of 89: { eighty_nine_count }')\n",
    "\n",
    "\n",
    "# reverse\n",
    "m_list.reverse()\n",
    "print(f'reversing the list list.reverse(): { m_list }')\n",
    "\n",
    "# clear\n",
    "m_list.clear()\n",
    "print(f'list.clear(): { m_list }')\n"
   ]
  },
  {
   "cell_type": "markdown",
   "id": "3a8c5181",
   "metadata": {},
   "source": [
    "**list.sort()**\n",
    "\n",
    "Method Signature `list.sort(key=None, reverse=False)`\n",
    "\n",
    "Sorts the list in ascending order\n",
    "\n",
    "Parameters:\n",
    "1. **key:** (Optional) (default: `None`) A function that serves as a key for sorting. The function is applied to each element in the list before sorting.\n",
    "2. **reverse:** (Optional) (default: `None`) A boolean value. If True, the list will be sorted in descending order. If False, it will be sorted in ascending order."
   ]
  },
  {
   "cell_type": "code",
   "execution_count": null,
   "id": "f3dd90ee",
   "metadata": {},
   "outputs": [
    {
     "name": "stdout",
     "output_type": "stream",
     "text": [
      "after using the list.sort() (ascending order): [1, 14, 23, 43, 43, 56, 67, 77, 89]\n",
      "after using the list.sort(reverse=True) (descending order): [89, 77, 67, 56, 43, 43, 23, 14, 1]\n",
      "[89, 77, 67, 56, 43, 43, 23, 14, 1]\n",
      "fruit_list with reverse=False ['abba', 'annar', 'apple', 'banana', 'grape', 'kiwi', 'mango', 'orange', 'pineapple', 'strawberry', 'watermelon']\n",
      "fruit_list with reverse=true ['watermelon', 'strawberry', 'pineapple', 'orange', 'mango', 'kiwi', 'grape', 'banana', 'apple', 'annar', 'abba']\n",
      "based on the length of str ['kiwi', 'abba', 'mango', 'grape', 'apple', 'annar', 'orange', 'banana', 'pineapple', 'watermelon', 'strawberry']\n",
      "based on the length of str (lambda): ['abba', 'kiwi', 'annar', 'apple', 'grape', 'mango', 'banana', 'orange', 'pineapple', 'strawberry', 'watermelon']\n",
      "[(1, 'one'), (3, 'three'), (2, 'two')]\n",
      "[{'name': 'Bob', 'age': 20}, {'name': 'Charlie', 'age': 22}, {'name': 'Alice', 'age': 25}]\n",
      "['Apple', 'Cherry', 'apple', 'banana', 'cherry']\n",
      "['apple', 'Apple', 'banana', 'Cherry', 'cherry']\n",
      "[3, -5, 8, -10, 15, -20]\n"
     ]
    }
   ],
   "source": [
    "s_list = [43, 67, 14, 89, 77, 56, 1, 23, 43]\n",
    "\n",
    "# sort the list in ascending order\n",
    "s_list.sort()\n",
    "print(f'after using the list.sort() (ascending order): { s_list }')\n",
    "\n",
    "# sort the list in descending order (reverse)\n",
    "s_list.sort(reverse=True)\n",
    "print(f'after using the list.sort(reverse=True) (descending order): { s_list }')\n",
    "\n",
    "# Key Parameter Testing:\n",
    "\n",
    "# TEST 1: doing asc & dsc via key function - FAILED \n",
    " \n",
    "# sorting it back in ascending order, using key function\n",
    "# key sorter function cannot be used as the javascript sort function, \n",
    "# where you receive first and next element together to make comparison\n",
    "\n",
    "def asc_sorter(x):\n",
    "  return x\n",
    "\n",
    "s_list.sort(key=asc_sorter, reverse=True)\n",
    "print(s_list)\n",
    "\n",
    "# TEST 2: Sorting string with reverse.\n",
    "# Result = reverse key could completely sort the list of strs in correct asc & dsc order.\n",
    "\n",
    "fruit_list = ['banana', 'apple', 'orange', 'grape', 'mango', 'pineapple', 'kiwi', 'strawberry', 'watermelon', 'annar', 'abba']\n",
    "\n",
    "# first try with reverse key True/False\n",
    "# result: It sorts on the base of string alphabet precedence\n",
    "fruit_list.sort(reverse=False)\n",
    "print(f'fruit_list with reverse=False {fruit_list}')\n",
    "\n",
    "fruit_list.sort(reverse=True)\n",
    "print(f'fruit_list with reverse=true {fruit_list}')\n",
    "\n",
    "# TEST 3: Sorting on the base of str len with function\n",
    "def as_len(x):\n",
    "  return len(x)\n",
    "\n",
    "\n",
    "fruit_list.sort(key=as_len)\n",
    "print(f'based on the length of str { fruit_list }')\n",
    "\n",
    "# TEST 3.1: Sorting on the base of str len with lambda function\n",
    "fruit_list.sort() # sorted in asc order before applying lambda func\n",
    "\n",
    "as_func_lambda = lambda x: len(x)\n",
    "\n",
    "fruit_list.sort(key=as_func_lambda)\n",
    "print(f'based on the length of str (lambda): { fruit_list }')\n",
    "\n",
    "\n",
    "# TEST 4.1: Sort by the second element of each tuple (index 1)\n",
    "\n",
    "pairs = [(1, 'one'), (3, 'three'), (2, 'two')]\n",
    "pairs.sort(key=lambda x: x[1])\n",
    "\n",
    "print(pairs)\n",
    "\n",
    "# TEST 4.2: Sort by 'age' key in each dictionary\n",
    "students = [\n",
    "    {'name': 'Alice', 'age': 25},\n",
    "    {'name': 'Bob', 'age': 20},\n",
    "    {'name': 'Charlie', 'age': 22}\n",
    "]\n",
    "\n",
    "students.sort(key=lambda x: x['age'])\n",
    "print(students)\n",
    "\n",
    "# TEST 5.0: Sort while casing\n",
    "fruit_words = [\"apple\", \"banana\", \"Cherry\", \"cherry\", \"Apple\"]\n",
    "fruit_words.sort()\n",
    "print(fruit_words)\n",
    "\n",
    "# TEST 5.1: Sort while ignoring case\n",
    "fruit_words = [\"apple\", \"banana\", \"Cherry\", \"cherry\", \"Apple\"]\n",
    "fruit_words.sort(key=str.lower)\n",
    "\n",
    "print(fruit_words)\n",
    "\n",
    "\n",
    "# TEST 6: sort based on the absolute value\n",
    "int_num = [-10, 15, -5, 3, 8, -20]\n",
    "int_num.sort(key=abs)\n",
    "\n",
    "print(int_num)\n"
   ]
  }
 ],
 "metadata": {
  "kernelspec": {
   "display_name": "3.12.11",
   "language": "python",
   "name": "python3"
  },
  "language_info": {
   "codemirror_mode": {
    "name": "ipython",
    "version": 3
   },
   "file_extension": ".py",
   "mimetype": "text/x-python",
   "name": "python",
   "nbconvert_exporter": "python",
   "pygments_lexer": "ipython3",
   "version": "3.12.11"
  }
 },
 "nbformat": 4,
 "nbformat_minor": 5
}
