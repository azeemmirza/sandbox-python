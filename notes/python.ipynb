{
 "cells": [
  {
   "cell_type": "markdown",
   "metadata": {},
   "source": [
    "## **Python**"
   ]
  },
  {
   "cell_type": "markdown",
   "metadata": {},
   "source": [
    "- Created by **Guido van Rossum**\n",
    "- Python Interpretation & Compilation ?\n",
    "- REPL,  GLOT io -> for online coding in browser\n",
    "\n",
    "### Why so many Languages:\n",
    "- python is usually slower than languages like C, C++, Java.\n",
    "- Python is although slower, but good at developer productivity\n",
    "- All Languages have different strengths and weaknesses\n",
    "- There's no ultimate programming language\n",
    "- Everything as trade offs, has pro and cons. Experience tells you about what pros and cons of every programming language\n",
    "\n",
    "\n",
    "## Python Interpreter:\n",
    "   - python_code -> INTERPRETER -> byte_code -> CPYTHON_VM -> machine_code\n",
    "\n",
    "## Python Engines:\n",
    "- CPython - written in C Language (Official)\n",
    "- JPython - written in Java\n",
    "- IronPython - written in C# for the Common Language Runtime (CLR/.NET)\n",
    "- PyPy - written in Python\n",
    "- CLPython - written in Lisp\n",
    "- Skybison - written in C++\n",
    "\n",
    "- Official Language is just a specification\n",
    "- It's just a machine built by developers to comply that specification.\n",
    "\n",
    "How Python works ?\n",
    "\n",
    "\n",
    "PYTHON_BASICS:\n",
    "\n",
    "yo-terms: statements, instantiation.\n",
    "data-types, actions\n",
    "\n",
    "### Python vs Python 3:\n",
    "- Py 3 Came in 2008\n",
    "- Major Upgrade, means breaking changes\n",
    "- Preferred to use Py 3\n",
    "- py3readiness.com\n",
    "- Current 356/360\n",
    "- Last version 2.7\n",
    "- Python - generally means Python 3\n",
    "- Tutorial in Python 3.6, Currently 3.10 is Active\n",
    "\n",
    "*Changes from 3.6 to 3.10 ?*\n",
    "\n",
    "Classes -> Custom Types\n",
    "Specialized Data Types\n",
    "\n",
    "___\n",
    "DEVELOPER_FUNDAMENTAL:\n",
    "- Don't read the dictionary.\n",
    "- Never learn the language with reading a dictionary.\n",
    "- Use language to learn it.\n",
    "- Concepts first.\n",
    "___"
   ]
  },
  {
   "cell_type": "code",
   "execution_count": 9,
   "metadata": {},
   "outputs": [
    {
     "name": "stdout",
     "output_type": "stream",
     "text": [
      "Andrie Neagoie\n",
      "Hello Test\n"
     ]
    }
   ],
   "source": [
    "# prints to console\n",
    "print('Andrie Neagoie')\n",
    "\n",
    "# captures the input string and will save in name variable\n",
    "name = input('What is your name ?')\n",
    "\n",
    "# prints out the name variable value with concatenation\n",
    "print('Hello ' + name)"
   ]
  },
  {
   "cell_type": "markdown",
   "metadata": {},
   "source": [
    "### **Data Types**\n",
    "---\n",
    "\n",
    "**Primitive Data Types:**\n",
    "1. int - Integer\n",
    "2. float - Float/Double\n",
    "3. bool - Boolean\n",
    "4. str - String"
   ]
  },
  {
   "cell_type": "code",
   "execution_count": 11,
   "metadata": {},
   "outputs": [
    {
     "name": "stdout",
     "output_type": "stream",
     "text": [
      "10\n",
      "<class 'int'>\n",
      "10.5\n",
      "<class 'float'>\n",
      "True\n",
      "<class 'bool'>\n",
      "Hello\n",
      "<class 'str'>\n"
     ]
    }
   ],
   "source": [
    "intValue = 10\n",
    "\n",
    "# prints out the integer value\n",
    "print(intValue)\n",
    "# prints out the type of the integer variable\n",
    "print(type(intValue))\n",
    "\n",
    "floatVal = 10.5\n",
    "\n",
    "# prints out the float value\n",
    "print(floatVal)\n",
    "# prints out the type of the float variable\n",
    "print(type(floatVal))\n",
    "\n",
    "boolValue = True\n",
    "\n",
    "# prints out the boolean value\n",
    "print(boolValue)\n",
    "# prints out the type of the boolean variable\n",
    "print(type(boolValue))\n",
    "\n",
    "stringVal = 'Hello'\n",
    "\n",
    "# prints out the string value\n",
    "print(stringVal)\n",
    "# prints out the type of the string variable\n",
    "print(type(stringVal))\n"
   ]
  },
  {
   "cell_type": "markdown",
   "metadata": {},
   "source": [
    "**Numbers**\n",
    "- Two basic types of numbers Integers & Floats.\n",
    "- Can perform all arithmetic ops\n",
    "- Floating point number is hard to represent in binary number, therefore more memory is used to store floating number.\n",
    "- `type` op tell what type it is. (similar to typeof in JS)\n",
    "- syntax: `type(variable/literal)`"
   ]
  },
  {
   "cell_type": "code",
   "execution_count": 10,
   "metadata": {},
   "outputs": [
    {
     "name": "stdout",
     "output_type": "stream",
     "text": [
      "<class 'int'>\n",
      "<class 'float'>\n",
      "<class 'int'>\n",
      "<class 'float'>\n",
      "11.0\n",
      "<class 'float'>\n",
      "<class 'float'>\n"
     ]
    }
   ],
   "source": [
    "# prints <class 'int'>\n",
    "print(type(6)) \n",
    "\n",
    "# prints <class 'float'>\n",
    "print(type(0.5))\n",
    "\n",
    "# prints <class 'int'>\n",
    "print(type(0))\n",
    "\n",
    "# prints <class 'float'>\n",
    "print(type(0.00)) \n",
    "\n",
    "\n",
    "# two Floating points arithmetic op will always result in floating point\n",
    "# will print 11.0\n",
    "print(9.9 + 1.1) \n",
    "\n",
    "# prints <class 'float'>\n",
    "print(type(9.9 + 1.1))\n",
    "\n",
    "# floating point and int will result in floating point\n",
    "print(type(9.9 + 1)) "
   ]
  },
  {
   "cell_type": "markdown",
   "metadata": {},
   "source": [
    "\n",
    "**Arthmetic Operations:**\n",
    "\n",
    "1. Addition\n",
    "   Adds two numbers like\n",
    "   2 + 2 = 4.\n",
    "\n",
    "2. Subtraction\n",
    "   Subtracts two numbers like\n",
    "   3 - 1 = 2\n",
    "\n",
    "3. Multiplication\n",
    "   Multiply two or more together:\n",
    "   2 * 4 = 8\n",
    "\n",
    "4. Division\n",
    "   Divide two numbers like:\n",
    "   4 / 2 = 2\n",
    "\n",
    "5. Modulus\n",
    "   Finds the remainder when first operand is divided by the second.\n",
    "   4 % 2 = 0 ( 4 / 2 = 2 with no remainders )\n",
    "   3 % 2 = 1 ( 3 / 2 = 1.5 with remainder 1 in division)\n",
    "   103 % 100 = 3 ( 3 will be in remainder)\n",
    "\n",
    "6. Exponential\n",
    "   Raises the first operand to power of second.\n",
    "   2 ** 2 = 4\n",
    "   10 ** 2 = 100\n",
    "\n",
    "7. Floor Division\n",
    "   Find the floor of the quotient when first operand is divided by the second. returns integer\n",
    "   103 // 100 = 1 ( Division will result in 1.03, and quotient will be 1 )\n",
    "   3 // 2 = 1 ( Division will result in 1.5, and quotient will be 1 )\n",
    "\n",
    "MATH_FUNCS:\n",
    "\n",
    "1. round()\n",
    "2. abs()\n",
    "3. https://www.programiz.com/python-programming/modules/math\n",
    "\n",
    "\n",
    "OPERATOR_PRECEDENCE:\n",
    "\n",
    "- Many operators have different precedence in heirarcy of precedence.\n",
    "- In arithematic Ops BODMAS is followed.\n",
    "\n",
    "Precedence:\n",
    "    1. () - brackets\n",
    "    2. ** - exponential\n",
    "    3. * & / - Multiplication & Division\n",
    "    4. + & - Addition & Subtraction"
   ]
  },
  {
   "cell_type": "markdown",
   "metadata": {},
   "source": [
    "- bin() - returns binary encoding of int.\n",
    "\n",
    "VARIABLES:\n",
    "- variables are ways to store information\n",
    "- variables are case sensitive\n",
    "- can't name variables as python keywords.\n",
    "- python have dunder variables. Should never create variable with dunder.\n",
    "- rapid value assignment:\n",
    "    a,b,c = 1,21,3\n",
    "\n",
    "Statement: An entire line of code that performs any action\n",
    "Expression: Piece of code that produces a value."
   ]
  },
  {
   "cell_type": "markdown",
   "metadata": {},
   "source": [
    "STRINGS:\n",
    "- A piece of text\n",
    "- Can be written with single-quote & double-quotes, cannot be stretched to multiple lines\n",
    "- Long strings can be written with three single-quotes, can stretch on multiple lines\n",
    "- collection of character (char)\n",
    "\n",
    "STRING CONCATENATION:\n",
    "- Concatenation - adding or merging strings together\n",
    "- String concatenation with '+' sign operator.\n",
    "\n",
    "string_one = 'String One'\n",
    "string_two = 'String Two'\n",
    "string_merged = string_one + string_two\n",
    "\n",
    "ESCAPE_SEQUENCES:\n",
    "- Backslashes can be used to escape next sequence\n",
    "\n",
    "FORMATTED STRINGS:\n",
    "\n",
    "\n",
    "STRING INDEXES:\n",
    "- Strings are saved inside a memory as an ordered sequence of memory.\n",
    "- [start:stop:stepover]\n",
    "- negative indexes starts at the end\n",
    "- string[::-1] -> reverses the string\n",
    "\n",
    "IMMUTABILITY:\n",
    "- Strings in python are immutable.\n",
    "- Strings doesn't support item assignment\n",
    "- In order to edit it, you've to change it and re-assign it."
   ]
  },
  {
   "cell_type": "markdown",
   "metadata": {},
   "source": [
    "TYPE_CONVERSION:\n",
    "- str() - converts other data types to string data type\n",
    "- int() - converts to integer data type\n",
    "- bool() - converts to boolean data type\n",
    "- https://www.geeksforgeeks.org/type-conversion-python/"
   ]
  },
  {
   "cell_type": "markdown",
   "metadata": {},
   "source": [
    "BUILT_IN_FUNCTIONS:\n",
    "- previously used: str(), int(), print()\n",
    "- list of built-in funcs: https://docs.python.org/3/library/functions.html"
   ]
  },
  {
   "cell_type": "markdown",
   "metadata": {},
   "source": [
    "#### Assignment"
   ]
  },
  {
   "cell_type": "code",
   "execution_count": 1,
   "metadata": {},
   "outputs": [],
   "source": [
    "# basic\n",
    "x = 3\n",
    "\n",
    "# tuple\n",
    "(x, y) = 3,4\n",
    "\n",
    "# list\n",
    "[x, y] = [3, 4]\n",
    "\n",
    "# sequence\n",
    "x, y = 3, 4\n",
    "x, y, z = 'HEY'\n",
    "\n",
    "# extended-sequence\n",
    "x, *y = 'HEY'\n",
    "first, *rest = ['A', 'B', 'C', 'D']\n",
    "\n",
    "# multiple target\n",
    "x = y = 75\n",
    "   \n",
    "# augmented\n",
    "# augmented assignment can be done with every arithmetic operation. (+, -, *, /, **, %, //)\n",
    "x = 2\n",
    "x += 2\n",
    "   "
   ]
  },
  {
   "cell_type": "markdown",
   "metadata": {},
   "source": [
    "BOOLEANS:\n",
    "- two options/literals are: true & false/True & False\n",
    "- represents an idea of 1 & 0 in binary.\n",
    "- Logical values\n",
    "- Booleans help us control the follow of program\n",
    "- Truthy and Falsy"
   ]
  },
  {
   "cell_type": "markdown",
   "metadata": {},
   "source": [
    "https://opensource.com/article/19/10/python-programming-paradigms"
   ]
  },
  {
   "cell_type": "code",
   "execution_count": 4,
   "metadata": {},
   "outputs": [
    {
     "name": "stdout",
     "output_type": "stream",
     "text": [
      "a value\n",
      "checked\n",
      "2\n",
      "3\n",
      "11\n",
      "Does not exit\n",
      "['__add__', '__class__', '__class_getitem__', '__contains__', '__delattr__', '__dir__', '__doc__', '__eq__', '__format__', '__ge__', '__getattribute__', '__getitem__', '__getnewargs__', '__getstate__', '__gt__', '__hash__', '__init__', '__init_subclass__', '__iter__', '__le__', '__len__', '__lt__', '__mul__', '__ne__', '__new__', '__reduce__', '__reduce_ex__', '__repr__', '__rmul__', '__setattr__', '__sizeof__', '__str__', '__subclasshook__', 'count', 'index']\n",
      "[None, None, None, None, None]\n",
      "1\n"
     ]
    }
   ],
   "source": [
    "d = {'a': 'a value', 'b': 'b value'}\n",
    "\n",
    "print(d['a'])\n",
    "print(None if 'c' in d else 'checked')\n",
    "\n",
    "\n",
    "t = (1, 2, 4)\n",
    "print(t[1])\n",
    "print(len(t))\n",
    "\n",
    "a = [11, 12, 13]\n",
    "print(a[0])\n",
    "i = 3\n",
    "print(a[i] if len(a) > i else 'Does not exit') # to prevent IndexError \n",
    "\n",
    "print(dir(tuple))\n",
    "\n",
    "class FairField: \n",
    "  index = 0\n",
    "  \n",
    "  def __str__(self):\n",
    "    return 'Hello Test'\n",
    "  \n",
    "\n",
    "print([None] * 5)\n",
    "\n",
    "\n",
    "l,k, j = t\n",
    "print(l)\n",
    "\n"
   ]
  }
 ],
 "metadata": {
  "kernelspec": {
   "display_name": "3.12.11",
   "language": "python",
   "name": "python3"
  },
  "language_info": {
   "codemirror_mode": {
    "name": "ipython",
    "version": 3
   },
   "file_extension": ".py",
   "mimetype": "text/x-python",
   "name": "python",
   "nbconvert_exporter": "python",
   "pygments_lexer": "ipython3",
   "version": "3.12.11"
  }
 },
 "nbformat": 4,
 "nbformat_minor": 2
}
