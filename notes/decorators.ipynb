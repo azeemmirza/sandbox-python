{
 "cells": [
  {
   "cell_type": "markdown",
   "id": "b9568834",
   "metadata": {},
   "source": [
    "#### **Decorators:**\n",
    "\n",
    "Python decorators allow you to modify or extend the behavior of functions and methods without changing their actual code. When you use a Python decorator, you wrap a function with another function, which takes the original function as an argument and returns its modified version.\n",
    "\n",
    "use cases for decorators include *logging*, *enforcing access control*, *caching results*, and *measuring execution time*."
   ]
  },
  {
   "cell_type": "code",
   "execution_count": null,
   "id": "b6aee6e8",
   "metadata": {},
   "outputs": [
    {
     "name": "stdout",
     "output_type": "stream",
     "text": [
      "Calling function: sum\n",
      "3\n"
     ]
    }
   ],
   "source": [
    "\n",
    "def print_func_name(func):\n",
    "  # This is a decorator that takes a function as an argument\n",
    "  # and returns a new function that prints the name of the original function\n",
    "  # before calling it\n",
    "  def wrapper (*args, **kwargs):\n",
    "    # This is the wrapper function that adds functionality to the original function\n",
    "    # It takes any number of arguments and keyword arguments of original function\n",
    "    # and passes them to the original function\n",
    "    # It also prints the name of the original function\n",
    "    print(f'Calling function: {func.__name__}')\n",
    "    \n",
    "    return func(*args, **kwargs)\n",
    "  \n",
    "  return wrapper\n",
    "\n",
    "\n",
    "@print_func_name\n",
    "def sum(a, b):\n",
    "  return a + b\n",
    "\n",
    "\n",
    "print(sum(1, 2))\n"
   ]
  },
  {
   "cell_type": "markdown",
   "id": "da2158ba",
   "metadata": {},
   "source": [
    "The `*args` & `kwargs` are used here in wrapper which is an abstract of all the client function's arguments."
   ]
  },
  {
   "cell_type": "code",
   "execution_count": 5,
   "id": "5b362cc4",
   "metadata": {},
   "outputs": [
    {
     "name": "stdout",
     "output_type": "stream",
     "text": [
      "1 2 3 4 5\n",
      "15\n"
     ]
    }
   ],
   "source": [
    "def sums(*args):\n",
    "  print(*args)\n",
    "  result = 0\n",
    "  \n",
    "  for arg in args:\n",
    "    result += arg\n",
    "    \n",
    "  return result\n",
    "  \n",
    "\n",
    "print(sums(1, 2, 3, 4, 5))"
   ]
  }
 ],
 "metadata": {
  "kernelspec": {
   "display_name": "env",
   "language": "python",
   "name": "python3"
  },
  "language_info": {
   "codemirror_mode": {
    "name": "ipython",
    "version": 3
   },
   "file_extension": ".py",
   "mimetype": "text/x-python",
   "name": "python",
   "nbconvert_exporter": "python",
   "pygments_lexer": "ipython3",
   "version": "3.12.10"
  }
 },
 "nbformat": 4,
 "nbformat_minor": 5
}
