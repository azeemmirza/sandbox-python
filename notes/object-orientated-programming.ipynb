{
 "cells": [
  {
   "cell_type": "markdown",
   "id": "dd2c9cd5",
   "metadata": {},
   "source": [
    "**Python: Oriented Programming Language**"
   ]
  },
  {
   "cell_type": "code",
   "execution_count": null,
   "id": "09efe3b7",
   "metadata": {},
   "outputs": [
    {
     "name": "stdout",
     "output_type": "stream",
     "text": [
      "MyClass object = <__main__.MyClass object at 0x113f3ecc0>\n",
      "MyClass.x = 5\n",
      "MyClass.y = 5\n"
     ]
    }
   ],
   "source": [
    "class MyClass: \n",
    "  x = 5\n",
    "  y = 5\n",
    "\n",
    "my_class = MyClass()\n",
    "\n",
    "\n",
    "print('MyClass object = ' + str(my_class))\n",
    "print('MyClass.x = ' + str(my_class.x))\n",
    "print('MyClass.y = ' + str(my_class.y))"
   ]
  },
  {
   "cell_type": "code",
   "execution_count": null,
   "id": "ac3e7c56",
   "metadata": {},
   "outputs": [
    {
     "name": "stdout",
     "output_type": "stream",
     "text": [
      "default new working\n",
      "initiation\n"
     ]
    }
   ],
   "source": [
    "class FirstClass:\n",
    "  '''\n",
    "  __new__(cls, *args, **kwargs)\n",
    "\t•\tPurpose: Creates a new instance of the class.\n",
    "\t•\tReturns: A new instance (usually of cls).\n",
    "\t•\tWhen Called: Before __init__, during object creation.\n",
    "\t•\tUse Case: Override it when you need to control the creation process (e.g. Singleton pattern, immutable objects like tuples).\n",
    "  '''\n",
    "  def __new__(cls):\n",
    "    print('inside __new__')\n",
    "    return super().__new__(cls)\n",
    "  \n",
    "  '''\n",
    "  __init__(self, *args, **kwargs)\n",
    "\t•\tPurpose: Initializes the instance after it has been created.\n",
    "\t•\tReturns: Nothing (None implicitly).\n",
    "\t•\tWhen Called: Immediately after __new__.\n",
    "\t•\tUse Case: Set instance variables, perform setup.\n",
    "  '''\n",
    "  def __init__(self):\n",
    "    print('inside __init__')\n",
    "    \n",
    "\n",
    "first_class = FirstClass()"
   ]
  },
  {
   "cell_type": "code",
   "execution_count": 2,
   "id": "a99b4aa4",
   "metadata": {},
   "outputs": [
    {
     "name": "stdout",
     "output_type": "stream",
     "text": [
      "MyClass object = <__main__.MyClassAccessor object at 0x110686990>\n",
      "attribute error occurred\n"
     ]
    }
   ],
   "source": [
    "class MyClassAccessor:\n",
    "  # public class field\n",
    "  public_field = 5\n",
    "  \n",
    "  # protected class field\n",
    "  _protected_field = 6\n",
    "  \n",
    "  # private class field\n",
    "  __private_field = 7\n",
    "  \n",
    "\n",
    "my_class = MyClassAccessor()\n",
    "\n",
    "try:\n",
    "  print('MyClass object = ' + str(my_class))\n",
    "  print('MyClass.x = ' + str(my_class.public_ins))\n",
    "  \n",
    "  # NOTE: can access the protected class\n",
    "  print('MyClass.y = ' + str(my_class._protected_ins))\n",
    "  print('MyClass.y = ' + str(my_class.__private_ins))\n",
    "except AttributeError:\n",
    "  print('attribute error occurred')\n",
    "  "
   ]
  },
  {
   "cell_type": "code",
   "execution_count": 3,
   "id": "b31a8ec7",
   "metadata": {},
   "outputs": [
    {
     "name": "stdout",
     "output_type": "stream",
     "text": [
      "Constant name\n"
     ]
    }
   ],
   "source": [
    "class Person: \n",
    "  def __init__(self, name, age):\n",
    "    self.name = name\n",
    "    self.age = age\n",
    "    \n",
    "  \n",
    "  def get_name(self):\n",
    "    return 'Constant name'\n",
    "\n",
    "\n",
    "p = Person('Name', 98)\n",
    "print(p.get_name())\n",
    "    "
   ]
  },
  {
   "cell_type": "code",
   "execution_count": null,
   "id": "0002d0fb",
   "metadata": {},
   "outputs": [
    {
     "name": "stdout",
     "output_type": "stream",
     "text": [
      "car sound\n"
     ]
    }
   ],
   "source": [
    "class Vehicle:\n",
    "  def __init__(self, name, age):\n",
    "    self.name = name\n",
    "    self.age = age\n",
    "    \n",
    "  \n",
    "  \n",
    "  def make_sound(self):\n",
    "    print('vehicle sound')\n",
    "    \n",
    "    \n",
    "\n",
    "class Car(Vehicle):\n",
    "  def __init__(self, name, age):\n",
    "    super().__init__(name, age)\n",
    "  \n",
    "  def make_sound(self):\n",
    "    print('car sound')\n",
    "\n",
    "# PC\n",
    "\n",
    "car = Car('Toyota', 4)\n",
    "car.make_sound()"
   ]
  },
  {
   "cell_type": "code",
   "execution_count": 5,
   "id": "f61fd1fe",
   "metadata": {},
   "outputs": [
    {
     "name": "stdout",
     "output_type": "stream",
     "text": [
      "Make: Toyota\n",
      "Toyota\n"
     ]
    }
   ],
   "source": [
    "# Python Getters & Setters\n",
    "\n",
    "class GetSet:\n",
    "  def __init__(self):\n",
    "    self.__make = None\n",
    "  \n",
    "  @property\n",
    "  def make(self):\n",
    "    return self.__make\n",
    "  \n",
    "  @make.setter\n",
    "  def make(self, make):\n",
    "    self.__make = make\n",
    "  \n",
    "  \n",
    "  def __str__(self):\n",
    "    return f'Make: {self.__make}'\n",
    "  \n",
    "  \n",
    "\n",
    "class_ins = GetSet()\n",
    "class_ins.make = 'Toyota'\n",
    "\n",
    "print(str(class_ins))\n",
    "print(class_ins.make) "
   ]
  },
  {
   "cell_type": "code",
   "execution_count": 6,
   "id": "77720baf",
   "metadata": {},
   "outputs": [
    {
     "name": "stdout",
     "output_type": "stream",
     "text": [
      "Customer: Luke has [Apple, Peach, Orange, Banana] items\n"
     ]
    }
   ],
   "source": [
    "class CartItem:\n",
    "  def __init__(self, name):\n",
    "    self.__name = name\n",
    "    \n",
    "  def get_name(self):\n",
    "    return self.__name\n",
    "  \n",
    "\n",
    "class ShoppingCart:\n",
    "  def __init__(self):\n",
    "    self.__items = []\n",
    "  \n",
    "  def add_item(self, item: CartItem):\n",
    "    self.__items.append(item)\n",
    "    \n",
    "  @property\n",
    "  def items(self):\n",
    "    return self.__items\n",
    "\n",
    "\n",
    "\n",
    "class Customer:\n",
    "  __name: str\n",
    "  __cart: ShoppingCart\n",
    "  \n",
    "  def __init__(self, name):\n",
    "    self.__name = name\n",
    "    self.__cart = ShoppingCart()\n",
    "    \n",
    "  def __str__(self):\n",
    "    items = ', '.join(item.get_name() for item in self.__cart.items)\n",
    "    \n",
    "    return f'Customer: {self.__name} has [{ items }] items'\n",
    "  \n",
    "  def get_shopping_cart(self):\n",
    "    return self.__cart\n",
    "  \n",
    "  \n",
    "  \n",
    "def main():\n",
    "  customer = Customer('Luke')\n",
    "  \n",
    "  shopping_cart = customer.get_shopping_cart()\n",
    "  shopping_cart.add_item(CartItem('Apple'))\n",
    "  shopping_cart.add_item(CartItem('Peach'))\n",
    "  shopping_cart.add_item(CartItem('Orange'))\n",
    "  shopping_cart.add_item(CartItem('Banana'))\n",
    "  \n",
    "  print(str(customer))\n",
    "\n",
    "\n",
    "main()\n"
   ]
  },
  {
   "cell_type": "markdown",
   "id": "12adeb9e",
   "metadata": {},
   "source": [
    "**CLASS DUNDER METHODS:**\n",
    "\n",
    "Python Magic methods are the methods starting and ending with double underscores '__'. They are defined by built-in classes in Python and commonly used for operator overloading. \n",
    "\n",
    "They are also called Dunder methods, Dunder here means **Double Under (Underscores)**.\n"
   ]
  },
  {
   "cell_type": "code",
   "execution_count": 7,
   "id": "8e3ce865",
   "metadata": {},
   "outputs": [
    {
     "name": "stdout",
     "output_type": "stream",
     "text": [
      "['__abs__', '__add__', '__and__', '__bool__', '__ceil__', '__class__', '__delattr__', '__dir__', '__divmod__', '__doc__', '__eq__', '__float__', '__floor__', '__floordiv__', '__format__', '__ge__', '__getattribute__', '__getnewargs__', '__getstate__', '__gt__', '__hash__', '__index__', '__init__', '__init_subclass__', '__int__', '__invert__', '__le__', '__lshift__', '__lt__', '__mod__', '__mul__', '__ne__', '__neg__', '__new__', '__or__', '__pos__', '__pow__', '__radd__', '__rand__', '__rdivmod__', '__reduce__', '__reduce_ex__', '__repr__', '__rfloordiv__', '__rlshift__', '__rmod__', '__rmul__', '__ror__', '__round__', '__rpow__', '__rrshift__', '__rshift__', '__rsub__', '__rtruediv__', '__rxor__', '__setattr__', '__sizeof__', '__str__', '__sub__', '__subclasshook__', '__truediv__', '__trunc__', '__xor__', 'as_integer_ratio', 'bit_count', 'bit_length', 'conjugate', 'denominator', 'from_bytes', 'imag', 'is_integer', 'numerator', 'real', 'to_bytes']\n",
      "['__add__', '__class__', '__contains__', '__delattr__', '__dir__', '__doc__', '__eq__', '__format__', '__ge__', '__getattribute__', '__getitem__', '__getnewargs__', '__getstate__', '__gt__', '__hash__', '__init__', '__init_subclass__', '__iter__', '__le__', '__len__', '__lt__', '__mod__', '__mul__', '__ne__', '__new__', '__reduce__', '__reduce_ex__', '__repr__', '__rmod__', '__rmul__', '__setattr__', '__sizeof__', '__str__', '__subclasshook__', 'capitalize', 'casefold', 'center', 'count', 'encode', 'endswith', 'expandtabs', 'find', 'format', 'format_map', 'index', 'isalnum', 'isalpha', 'isascii', 'isdecimal', 'isdigit', 'isidentifier', 'islower', 'isnumeric', 'isprintable', 'isspace', 'istitle', 'isupper', 'join', 'ljust', 'lower', 'lstrip', 'maketrans', 'partition', 'removeprefix', 'removesuffix', 'replace', 'rfind', 'rindex', 'rjust', 'rpartition', 'rsplit', 'rstrip', 'split', 'splitlines', 'startswith', 'strip', 'swapcase', 'title', 'translate', 'upper', 'zfill']\n"
     ]
    }
   ],
   "source": [
    "print(dir(int))\n",
    "\n",
    "print(dir(str))"
   ]
  },
  {
   "cell_type": "code",
   "execution_count": 8,
   "id": "e8e98c3e",
   "metadata": {},
   "outputs": [
    {
     "name": "stdout",
     "output_type": "stream",
     "text": [
      "25\n",
      "30\n"
     ]
    }
   ],
   "source": [
    "# fragility in inheritance\n",
    "# abuse of liskov substitution principle \n",
    "\n",
    "# rectangle class\n",
    "class Rectangle:\n",
    "  def __init__(self, length, width):\n",
    "    self.length = length\n",
    "    self.width = width\n",
    "  \n",
    "  def get_length(self):\n",
    "    return self.length\n",
    "  \n",
    "  def get_width(self):\n",
    "    return self.width\n",
    "  \n",
    "  def get_area(self):\n",
    "    return self.width * self.length\n",
    "  \n",
    "  def set_width(self, width):\n",
    "    self.width = width\n",
    "    \n",
    "  def set_length(self, length):\n",
    "    self.length = length\n",
    "  \n",
    "# square class\n",
    "class Square(Rectangle):\n",
    "  def __init__(self, size):\n",
    "    super().__init__(size, size)\n",
    "  \n",
    "\n",
    "\n",
    "# main\n",
    "square = Square(5)\n",
    "print(square.get_area())\n",
    "\n",
    "# now update the width of the square\n",
    "square.set_width(6)\n",
    "print(square.get_area()) # 30\n",
    "\n",
    "# since we have updated the with of the square\n",
    "# we're not getting the correct area, since we have abused the LSP\n",
    "# We can fix that, via:\n",
    "# 1. making rectangle class immutable\n",
    "# 2. or by overiding the set_width() and set_length method.\n",
    "# but then question arises why go with inheritance\n",
    "# if you have re-implement every method.\n"
   ]
  },
  {
   "cell_type": "code",
   "execution_count": null,
   "id": "dcec404e",
   "metadata": {},
   "outputs": [],
   "source": []
  }
 ],
 "metadata": {
  "kernelspec": {
   "display_name": "3.12.11",
   "language": "python",
   "name": "python3"
  },
  "language_info": {
   "codemirror_mode": {
    "name": "ipython",
    "version": 3
   },
   "file_extension": ".py",
   "mimetype": "text/x-python",
   "name": "python",
   "nbconvert_exporter": "python",
   "pygments_lexer": "ipython3",
   "version": "3.12.11"
  }
 },
 "nbformat": 4,
 "nbformat_minor": 5
}
