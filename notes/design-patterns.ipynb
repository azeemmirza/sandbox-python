{
 "cells": [
  {
   "cell_type": "markdown",
   "id": "93e3c433",
   "metadata": {},
   "source": [
    "**CREATIONAL DESIGN PATTERNS**\n",
    "\n",
    "\n",
    "**SINGLETON**"
   ]
  },
  {
   "cell_type": "code",
   "execution_count": null,
   "id": "1a0d7833",
   "metadata": {},
   "outputs": [
    {
     "name": "stdout",
     "output_type": "stream",
     "text": [
      "new instance created\n",
      "object created at 2025-06-30 15:12:04.933690\n",
      "object created at 2025-06-30 15:12:04.933690\n",
      "object created at 2025-06-30 15:12:04.933690\n"
     ]
    }
   ],
   "source": [
    "from datetime import datetime\n",
    "\n",
    "\n",
    "class Singleton:\n",
    "  _instance = None\n",
    "  __datetime = None\n",
    "  \n",
    "  def __new__(cls):\n",
    "    # if instance not found\n",
    "    if cls._instance is None:\n",
    "      print('new instance created')\n",
    "      \n",
    "      cls.__datetime = datetime.now()\n",
    "      cls._instance = super(Singleton, cls).__new__(cls)\n",
    "    \n",
    "    return cls._instance\n",
    "  \n",
    "  def __init__(self ):\n",
    "    print(f'object created at {str(self.__datetime)}')\n",
    "    \n",
    "\n",
    "single_one = Singleton()\n",
    "single_two = Singleton()\n",
    "single_three = Singleton()\n"
   ]
  },
  {
   "cell_type": "markdown",
   "id": "ebc5a2cc",
   "metadata": {},
   "source": [
    "**TEMPLATE METHOD :**"
   ]
  },
  {
   "cell_type": "code",
   "execution_count": 22,
   "id": "cc758c20",
   "metadata": {},
   "outputs": [],
   "source": [
    "from abc import ABC, abstractmethod\n",
    "\n",
    "# Beverage abstract class\n",
    "class Beverage(ABC):\n",
    "  __name = 'beverage'\n",
    "  \n",
    "  def __init__(self, name):\n",
    "    self.name = name\n",
    "  \n",
    "  def process(self):\n",
    "    self.preparation()\n",
    "    self.brew()\n",
    "    self.filtration()\n",
    "    self.packaging()\n",
    "    self.delivery()\n",
    "  \n",
    "  def preparation(self): \n",
    "    print(f'{ self.name } is being prepared for process.')\n",
    "  \n",
    "  @abstractmethod\n",
    "  def brew(self):\n",
    "    pass\n",
    "  \n",
    "  @abstractmethod\n",
    "  def filtration(self):\n",
    "    pass\n",
    "  \n",
    "  def packaging(self):\n",
    "    print(f'{ self.name } is packaged.')\n",
    "  \n",
    "  def delivery(self):\n",
    "    print(f'{ self.name } is delivered.')\n",
    "  \n",
    "  def get_name(self):\n",
    "    return self.__name\n",
    "\n"
   ]
  }
 ],
 "metadata": {
  "kernelspec": {
   "display_name": "3.12.11",
   "language": "python",
   "name": "python3"
  },
  "language_info": {
   "codemirror_mode": {
    "name": "ipython",
    "version": 3
   },
   "file_extension": ".py",
   "mimetype": "text/x-python",
   "name": "python",
   "nbconvert_exporter": "python",
   "pygments_lexer": "ipython3",
   "version": "3.12.11"
  }
 },
 "nbformat": 4,
 "nbformat_minor": 5
}
