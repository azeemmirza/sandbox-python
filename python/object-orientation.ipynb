{
 "cells": [
  {
   "cell_type": "markdown",
   "id": "dd2c9cd5",
   "metadata": {},
   "source": [
    "**Python: Oriented Programming Language**"
   ]
  },
  {
   "cell_type": "code",
   "execution_count": 18,
   "id": "09efe3b7",
   "metadata": {},
   "outputs": [
    {
     "name": "stdout",
     "output_type": "stream",
     "text": [
      "MyClass object = <__main__.MyClass object at 0x113f3ecc0>\n",
      "MyClass.x = 5\n",
      "MyClass.y = 5\n"
     ]
    }
   ],
   "source": [
    "class MyClass: \n",
    "  x = 5\n",
    "  y = 5\n",
    "\n",
    "my_class = MyClass()\n",
    "\n",
    "print('MyClass object = ' + str(my_class))\n",
    "print('MyClass.x = ' + str(my_class.x))\n",
    "print('MyClass.y = ' + str(my_class.y))"
   ]
  },
  {
   "cell_type": "code",
   "execution_count": null,
   "id": "a99b4aa4",
   "metadata": {},
   "outputs": [
    {
     "name": "stdout",
     "output_type": "stream",
     "text": [
      "MyClass object = <__main__.MyClassAccessor object at 0x113d95760>\n",
      "MyClass.x = 5\n",
      "MyClass.y = 6\n",
      "attribute error occured\n"
     ]
    }
   ],
   "source": [
    "class MyClassAccessor:\n",
    "  # public class field\n",
    "  public_field = 5\n",
    "  \n",
    "  # protected class field\n",
    "  _protected_field = 6\n",
    "  \n",
    "  # private class field\n",
    "  __private_field = 7\n",
    "  \n",
    "\n",
    "my_class = MyClassAccessor()\n",
    "\n",
    "try:\n",
    "  print('MyClass object = ' + str(my_class))\n",
    "  print('MyClass.x = ' + str(my_class.public_ins))\n",
    "  \n",
    "  # NOTE: can access the protected class\n",
    "  print('MyClass.y = ' + str(my_class._protected_ins))\n",
    "  print('MyClass.y = ' + str(my_class.__private_ins))\n",
    "except AttributeError:\n",
    "  print('attribute error occurred')\n",
    "  "
   ]
  },
  {
   "cell_type": "code",
   "execution_count": 24,
   "id": "b31a8ec7",
   "metadata": {},
   "outputs": [
    {
     "name": "stdout",
     "output_type": "stream",
     "text": [
      "Constant name\n"
     ]
    }
   ],
   "source": [
    "class Person: \n",
    "  def __init__(self, name, age):\n",
    "    self.name = name\n",
    "    self.age = age\n",
    "    \n",
    "  \n",
    "  def get_name(self):\n",
    "    return 'Constant name'\n",
    "\n",
    "\n",
    "p = Person('Name', 98)\n",
    "print(p.get_name())\n",
    "    "
   ]
  },
  {
   "cell_type": "code",
   "execution_count": 25,
   "id": "0002d0fb",
   "metadata": {},
   "outputs": [
    {
     "name": "stdout",
     "output_type": "stream",
     "text": [
      "car sound\n"
     ]
    }
   ],
   "source": [
    "class Vehicle:\n",
    "  def __init__(self, name, age):\n",
    "    self.name = name\n",
    "    self.age = age\n",
    "    \n",
    "  \n",
    "  def make_sound(self):\n",
    "    print('vehicle sound')\n",
    "    \n",
    "    \n",
    "\n",
    "class Car(Vehicle):\n",
    "  def __init__(self, name, age):\n",
    "    super().__init__(name, age)\n",
    "  \n",
    "  def make_sound(self):\n",
    "    print('car sound')\n",
    "\n",
    "# PC\n",
    "\n",
    "car = Car('Toyota', 4)\n",
    "car.make_sound()"
   ]
  },
  {
   "cell_type": "code",
   "execution_count": 30,
   "id": "f61fd1fe",
   "metadata": {},
   "outputs": [
    {
     "name": "stdout",
     "output_type": "stream",
     "text": [
      "Make: Toyota\n",
      "Toyota\n"
     ]
    }
   ],
   "source": [
    "# Python Getters & Setters\n",
    "\n",
    "class GetSet:\n",
    "  def __init__(self):\n",
    "    self.__make = None\n",
    "  \n",
    "  @property\n",
    "  def make(self):\n",
    "    return self.__make\n",
    "  \n",
    "  @make.setter\n",
    "  def make(self, make):\n",
    "    self.__make = make\n",
    "  \n",
    "  \n",
    "  def __str__(self):\n",
    "    return f'Make: {self.__make}'\n",
    "  \n",
    "  \n",
    "\n",
    "class_ins = GetSet()\n",
    "class_ins.make = 'Toyota'\n",
    "\n",
    "print(str(class_ins))\n",
    "print(class_ins.make) "
   ]
  },
  {
   "cell_type": "code",
   "execution_count": 1,
   "id": "77720baf",
   "metadata": {},
   "outputs": [
    {
     "name": "stdout",
     "output_type": "stream",
     "text": [
      "Customer: Luke has [Apple, Peach, Orange, Banana] items\n"
     ]
    }
   ],
   "source": [
    "class CartItem:\n",
    "  def __init__(self, name):\n",
    "    self.__name = name\n",
    "    \n",
    "  def get_name(self):\n",
    "    return self.__name\n",
    "  \n",
    "\n",
    "class ShoppingCart:\n",
    "  def __init__(self):\n",
    "    self.__items = []\n",
    "  \n",
    "  def add_item(self, item: CartItem):\n",
    "    self.__items.append(item)\n",
    "    \n",
    "  @property\n",
    "  def items(self):\n",
    "    return self.__items\n",
    "\n",
    "\n",
    "\n",
    "class Customer:\n",
    "  __name: str\n",
    "  __cart: ShoppingCart\n",
    "  \n",
    "  def __init__(self, name):\n",
    "    self.__name = name\n",
    "    self.__cart = ShoppingCart()\n",
    "    \n",
    "  def __str__(self):\n",
    "    items = ', '.join(item.get_name() for item in self.__cart.items)\n",
    "    \n",
    "    return f'Customer: {self.__name} has [{ items }] items'\n",
    "  \n",
    "  def get_shopping_cart(self):\n",
    "    return self.__cart\n",
    "  \n",
    "  \n",
    "  \n",
    "def main():\n",
    "  customer = Customer('Luke')\n",
    "  \n",
    "  shopping_cart = customer.get_shopping_cart()\n",
    "  shopping_cart.add_item(CartItem('Apple'))\n",
    "  shopping_cart.add_item(CartItem('Peach'))\n",
    "  shopping_cart.add_item(CartItem('Orange'))\n",
    "  shopping_cart.add_item(CartItem('Banana'))\n",
    "  \n",
    "  print(str(customer))\n",
    "\n",
    "\n",
    "main()\n"
   ]
  },
  {
   "cell_type": "markdown",
   "id": "12adeb9e",
   "metadata": {},
   "source": [
    "**CLASS DUNDER METHODS:**\n",
    "\n"
   ]
  }
 ],
 "metadata": {
  "kernelspec": {
   "display_name": "Python 3",
   "language": "python",
   "name": "python3"
  },
  "language_info": {
   "codemirror_mode": {
    "name": "ipython",
    "version": 3
   },
   "file_extension": ".py",
   "mimetype": "text/x-python",
   "name": "python",
   "nbconvert_exporter": "python",
   "pygments_lexer": "ipython3",
   "version": "3.12.11"
  }
 },
 "nbformat": 4,
 "nbformat_minor": 5
}
