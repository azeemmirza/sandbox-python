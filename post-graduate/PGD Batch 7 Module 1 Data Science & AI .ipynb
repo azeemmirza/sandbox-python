{
 "cells": [
  {
   "cell_type": "code",
   "execution_count": null,
   "id": "8af2014b",
   "metadata": {},
   "outputs": [],
   "source": [
    "# Full Name:  AZEEM ULLAH BAIG\n",
    "# Contact No: 0347-2211009\n",
    "# Program Name: PDG - AI with Data Science"
   ]
  },
  {
   "cell_type": "markdown",
   "id": "dddb1d49",
   "metadata": {},
   "source": [
    "# Part 1: Attempt any 8 Question"
   ]
  },
  {
   "cell_type": "markdown",
   "id": "c75ab677",
   "metadata": {},
   "source": [
    "Question 1: \n",
    "Define two variables, `num1` and `num2`, with values 40 and 52 respectively.Write a Python expression to calculate the sum, difference, product, and quotient of these two variables."
   ]
  },
  {
   "cell_type": "code",
   "execution_count": null,
   "id": "1b77e0fc",
   "metadata": {},
   "outputs": [],
   "source": [
    "num1 = 40\n",
    "num2 = 52\n",
    "\n",
    "print(f'{num1} + {num2} = ' + str(num1 + num2))\n",
    "print(f'{num2} - {num1} = ' + str(num2 - num1))\n",
    "print(f'{num1} x {num2} = ' + str(num1 * num2))\n",
    "print(f'{num1} // {num2} = ' + str(num1 // num2))\n"
   ]
  },
  {
   "cell_type": "markdown",
   "id": "8b493e32",
   "metadata": {},
   "source": [
    "Question 2: \n",
    "Write a Python script that checks if a number entered in a variable `num` by a user is positive, negative, or zero,or check if a user enter any invalid character and prints an appropriate message for each case."
   ]
  },
  {
   "cell_type": "code",
   "execution_count": null,
   "id": "3c3a51d7",
   "metadata": {},
   "outputs": [],
   "source": [
    "try:\n",
    "  input_num = int(input('Enter your number:'))\n",
    "\n",
    "  if input_num > 0:\n",
    "    print('number is positive')\n",
    "  elif input_num < 0:\n",
    "    print('number is negative')\n",
    "  else:\n",
    "    print('number is zero')\n",
    "\n",
    "except ValueError:\n",
    "  print('Please enter a valid number')\n",
    "  exit()\n"
   ]
  },
  {
   "cell_type": "markdown",
   "id": "17e2e808",
   "metadata": {},
   "source": [
    "Question 3:Write a Python script using a for loop to print all the even numbers between 1 and 20 (inclusive)."
   ]
  },
  {
   "cell_type": "code",
   "execution_count": null,
   "id": "15f755bd",
   "metadata": {},
   "outputs": [],
   "source": [
    "for i in range(1, 21):\n",
    "  if i % 2 == 0:\n",
    "    print(f'{i} is even')"
   ]
  },
  {
   "cell_type": "markdown",
   "id": "5c6d13ad",
   "metadata": {},
   "source": [
    "Question 4:Create two string variables `first_name` and `last_name`. Write a Python script to concatenate these two strings with a space in between and print the full name"
   ]
  },
  {
   "cell_type": "code",
   "execution_count": null,
   "id": "c549f184",
   "metadata": {},
   "outputs": [],
   "source": [
    "first_name = input('Enter your first name:')\n",
    "last_name = input('Enter your last name:')\n",
    "\n",
    "print(f'Your full name is {first_name} {last_name}')"
   ]
  },
  {
   "cell_type": "markdown",
   "id": "4014ba3f",
   "metadata": {},
   "source": [
    "Question 5: Write a Python script to calculate the area of a rectangle. The length and width of the rectangle should be stored in variables `length` and `width`."
   ]
  },
  {
   "cell_type": "code",
   "execution_count": null,
   "id": "8262e4ef",
   "metadata": {},
   "outputs": [],
   "source": [
    "try: \n",
    "  length = input('Enter width of rectangle: ')\n",
    "  breadth = input('Enter breadth of rectangle: ')\n",
    "  \n",
    "  print(f'Provided values for rectangle are {length} and {breadth}')\n",
    "  print(f'Area of rectangle is {float(length) * float(breadth)}')\n",
    "except ValueError:\n",
    "  print('Please enter a valid float')\n",
    "  exit()\n"
   ]
  },
  {
   "cell_type": "markdown",
   "id": "571048cb",
   "metadata": {},
   "source": [
    "Question 6:Write a program to check if a string enter by a user is a palindrome or not."
   ]
  },
  {
   "cell_type": "code",
   "execution_count": null,
   "id": "1f332801",
   "metadata": {},
   "outputs": [],
   "source": [
    "user_input = input('Enter a string: ')\n",
    "is_palindrome = user_input == user_input[::-1]\n",
    "\n",
    "if is_palindrome:\n",
    "  print('String is palindrome')\n",
    "else:\n",
    "  print('String is not palindrome')"
   ]
  },
  {
   "cell_type": "markdown",
   "id": "9248bc20",
   "metadata": {},
   "source": [
    "Question 7: Write a program to check if a number enter by user is prime. "
   ]
  },
  {
   "cell_type": "code",
   "execution_count": null,
   "id": "09c85165",
   "metadata": {},
   "outputs": [],
   "source": [
    "try:\n",
    "  input_number = int(input('Enter a number: '))\n",
    "  if input_number > 1:\n",
    "    for i in range(2, input_number):\n",
    "      if input_number % i == 0:\n",
    "        print('Number is not prime')\n",
    "        break\n",
    "    else:\n",
    "      print('Number is prime')\n",
    "\n",
    "except ValueError:\n",
    "  print('Please enter a valid number')\n",
    "  exit()"
   ]
  },
  {
   "cell_type": "markdown",
   "id": "e1e5801e",
   "metadata": {},
   "source": [
    "Question 8: Write a Python script that uses a for loop to iterate through numbers from 1 to 15. For each number, print \"Fizz\" if the number is divisible by 3, \"Buzz\" if it is divisible by 5, and \"FizzBuzz\" if it is divisible by both 3 and 5."
   ]
  },
  {
   "cell_type": "code",
   "execution_count": null,
   "id": "f7642eb6",
   "metadata": {},
   "outputs": [],
   "source": [
    "for i in range(1, 16):\n",
    "  if i % 3 == 0 and i % 5 == 0:\n",
    "    print('FizzBuzz')\n",
    "  elif i % 3 == 0:\n",
    "    print('Fizz')\n",
    "  elif i % 5 == 0:\n",
    "    print('Buzz')\n"
   ]
  },
  {
   "cell_type": "markdown",
   "id": "7601671a",
   "metadata": {},
   "source": [
    "Question 9 : Write a Python script that asks the user for their name and age, stores them in variables, and then prints a message saying \"Hello [name], you are [age] years old.\""
   ]
  },
  {
   "cell_type": "code",
   "execution_count": null,
   "id": "0ac56f17",
   "metadata": {},
   "outputs": [],
   "source": [
    "name = input('Enter your name: ')\n",
    "age = input('Enter your age: ')\n",
    "print(f'Hello {name}, you are {age} years old')"
   ]
  },
  {
   "cell_type": "markdown",
   "id": "41284e6f",
   "metadata": {},
   "source": [
    "# Part 2: Find error in a code and find the output "
   ]
  },
  {
   "cell_type": "code",
   "execution_count": null,
   "id": "30970d1b",
   "metadata": {},
   "outputs": [],
   "source": [
    "student_names = ['Luis', 'Divya' 'Maria', 'Mimi']\n",
    "student_names.append('Arnold')\n",
    "\n",
    "print(student_names)"
   ]
  },
  {
   "cell_type": "code",
   "execution_count": null,
   "id": "f711c2d8",
   "metadata": {},
   "outputs": [],
   "source": [
    "# find the sum of element in a list\n",
    "nums = (3, 8, -4, 22, 0)\n",
    "nums_sum = 0\n",
    "\n",
    "for num in nums:\n",
    "  nums_sum += num\n",
    "\n",
    "print(nums_sum)"
   ]
  },
  {
   "cell_type": "code",
   "execution_count": null,
   "id": "85983334",
   "metadata": {},
   "outputs": [],
   "source": [
    "ages = {\n",
    "  'Ahmed': 21,\n",
    "  'Faraz': 21,\n",
    "  'Sarah': 41\n",
    "}\n",
    "\n",
    "print('Faraz is {age} years old.'.format(age = ages['Faraz']))"
   ]
  },
  {
   "cell_type": "code",
   "execution_count": null,
   "id": "9ce3605b",
   "metadata": {},
   "outputs": [],
   "source": [
    "# QUESTION: Define Mutable and immutable data types with example.\n",
    "\n",
    "# ANSWER:\n",
    "# Mutable data types can be changed after they are created. Mutable data types: list, set, dictionary.\n",
    "# Immutable data types cannot be changed after they are created. Immutable data types: int, float, decimal, bool, string, tuple\n",
    "\n",
    "# write a syntax of for loop\n",
    "for i in range(1, 10):\n",
    "  print(i)"
   ]
  }
 ],
 "metadata": {
  "kernelspec": {
   "display_name": "Python 3",
   "language": "python",
   "name": "python3"
  },
  "language_info": {
   "codemirror_mode": {
    "name": "ipython",
    "version": 3
   },
   "file_extension": ".py",
   "mimetype": "text/x-python",
   "name": "python",
   "nbconvert_exporter": "python",
   "pygments_lexer": "ipython3",
   "version": "3.12.3"
  }
 },
 "nbformat": 4,
 "nbformat_minor": 5
}
