{
 "cells": [
  {
   "cell_type": "markdown",
   "metadata": {},
   "source": [
    "# **WEEK 3**"
   ]
  },
  {
   "cell_type": "markdown",
   "metadata": {},
   "source": [
    "1. Write a program to convert Celsius to Fahrenheit.\n",
    "2. Write a program to check if a number is prime.\n",
    "3. Write a program to check if a string is a palindrome.\n",
    "4. Write a program to reverse a string or list. \n",
    "5. Write a program to find the largest number in a list. \n",
    "6. Write a program to find the sum of all numbers in a list.\n",
    "7. Write a program to check if a number is even or odd."
   ]
  }
 ],
 "metadata": {
  "language_info": {
   "name": "python"
  }
 },
 "nbformat": 4,
 "nbformat_minor": 2
}
