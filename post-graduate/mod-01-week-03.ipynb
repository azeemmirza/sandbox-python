{
 "cells": [
  {
   "cell_type": "markdown",
   "metadata": {},
   "source": [
    "# **WEEK 3**\n",
    "\n",
    "Link: https://classroom.google.com/u/1/c/NjcxOTU0MDE5MjI4/a/NjkzNDg5Mzk4MTg1/de"
   ]
  },
  {
   "cell_type": "markdown",
   "metadata": {},
   "source": [
    "1. Write a program to convert Celsius to Fahrenheit."
   ]
  },
  {
   "cell_type": "code",
   "execution_count": null,
   "metadata": {},
   "outputs": [],
   "source": [
    "def celsius_to_fahrenheit(celsius):\n",
    "    # The formula to convert Celsius to Fahrenheit is: (Celsius * 9/5) + 32\n",
    "    fahrenheit = (celsius * 9/5) + 32\n",
    "\n",
    "    return fahrenheit\n",
    "\n",
    "\n",
    "def main():\n",
    "  try:\n",
    "    celsius = float(input(\"Enter the temperature in Celsius: \"))\n",
    "    fahrenheit = celsius_to_fahrenheit(celsius)\n",
    "    print(f\"{celsius}° in Celsius is equivalent to {fahrenheit}° Fahrenheit.\")\n",
    "  except ValueError:\n",
    "    print(\"Invalid input. Please enter a number.\")\n"
   ]
  },
  {
   "cell_type": "markdown",
   "metadata": {},
   "source": [
    "2. Write a program to check if a number is prime."
   ]
  },
  {
   "cell_type": "code",
   "execution_count": 2,
   "metadata": {},
   "outputs": [
    {
     "name": "stdout",
     "output_type": "stream",
     "text": [
      "13 is a prime number.\n"
     ]
    }
   ],
   "source": [
    "def check_prime():\n",
    "  try:\n",
    "    number = int(input(\"Enter a number: \"))\n",
    "    if number > 1:\n",
    "      for i in range(2, number):\n",
    "        if number % i == 0:\n",
    "          print(f\"{number} is not a prime number.\")\n",
    "          break\n",
    "      else:\n",
    "        print(f\"{number} is a prime number.\")\n",
    "    else:\n",
    "      print(f\"{number} is not a prime number.\")\n",
    "  except ValueError:\n",
    "    print(\"Invalid input. Please enter a number.\")\n",
    "\n",
    "if __name__ == \"__main__\":\n",
    "  check_prime()"
   ]
  },
  {
   "cell_type": "markdown",
   "metadata": {},
   "source": [
    "3. Write a program to check if a string is a palindrome."
   ]
  },
  {
   "cell_type": "code",
   "execution_count": null,
   "metadata": {},
   "outputs": [],
   "source": [
    "def is_palindrome():\n",
    "  try:\n",
    "    word = input(\"Enter a word: \")\n",
    "    if word == word[::-1]:\n",
    "      print(f\"{word} is a palindrome.\")\n",
    "    else:\n",
    "      print(f\"{word} is not a palindrome.\")\n",
    "  except ValueError:\n",
    "    print(\"Invalid input. Please enter a word.\")\n",
    "\n",
    "\n",
    "if __name__ == \"__main__\":\n",
    "  is_palindrome()"
   ]
  },
  {
   "cell_type": "markdown",
   "metadata": {},
   "source": [
    "4. Write a program to reverse a string or list. "
   ]
  },
  {
   "cell_type": "code",
   "execution_count": null,
   "metadata": {},
   "outputs": [],
   "source": [
    "def reverse_string():\n",
    "  try:\n",
    "    string = input(\"Enter a string: \")\n",
    "    print(f\"The reverse of {string} is {string[::-1]}.\")\n",
    "  except ValueError:\n",
    "    print(\"Invalid input. Please enter a string.\")\n",
    "\n",
    "\n",
    "if __name__ == \"__main__\":\n",
    "  reverse_string()"
   ]
  },
  {
   "cell_type": "markdown",
   "metadata": {},
   "source": [
    "5. Write a program to find the largest number in a list. "
   ]
  },
  {
   "cell_type": "code",
   "execution_count": 5,
   "metadata": {},
   "outputs": [
    {
     "name": "stdout",
     "output_type": "stream",
     "text": [
      " largest number in array is 5\n"
     ]
    }
   ],
   "source": [
    "def find_largest(arr: list):\n",
    "  try:\n",
    "    largest = arr[0]\n",
    "    for i in arr:\n",
    "      if i > largest:\n",
    "        largest = i\n",
    "    return largest\n",
    "  except ValueError:\n",
    "    print(\"Invalid input. Please enter a list of numbers.\")\n",
    "\n",
    "\n",
    "largest_number = find_largest([1, 2, 3, 4, 5])\n",
    "print(f' largest number in array is {largest_number}')"
   ]
  },
  {
   "cell_type": "markdown",
   "metadata": {},
   "source": [
    "6. Write a program to find the sum of all numbers in a list."
   ]
  },
  {
   "cell_type": "code",
   "execution_count": 7,
   "metadata": {},
   "outputs": [
    {
     "name": "stdout",
     "output_type": "stream",
     "text": [
      " Sum of array is: 33\n"
     ]
    }
   ],
   "source": [
    "def sum_of_numbers(arr: list):\n",
    "  sum = 0\n",
    "  for i in arr:\n",
    "    sum += i\n",
    "  \n",
    "  return sum\n",
    "\n",
    "\n",
    "if __name__ == \"__main__\":\n",
    "  print(f' Sum of array is: { sum_of_numbers([1, 20, 3, 4, 5]) }')\n"
   ]
  },
  {
   "cell_type": "markdown",
   "metadata": {},
   "source": [
    "7. Write a program to check if a number is even or odd."
   ]
  },
  {
   "cell_type": "code",
   "execution_count": 9,
   "metadata": {},
   "outputs": [
    {
     "name": "stdout",
     "output_type": "stream",
     "text": [
      "Number is even\n"
     ]
    }
   ],
   "source": [
    "def is_even_odd(num: int) -> str:\n",
    "  if num % 2 == 0:\n",
    "    return \"even\"\n",
    "  else:\n",
    "    return \"odd\"\n",
    "\n",
    "\n",
    "if __name__ == \"__main__\":\n",
    "  try: \n",
    "    number = int(input(\"Enter a number: \"))\n",
    "    print(f'Number is {is_even_odd(number)}')\n",
    "  except ValueError:\n",
    "    print(\"Invalid input. Please enter a number.\")\n"
   ]
  }
 ],
 "metadata": {
  "kernelspec": {
   "display_name": "Python 3",
   "language": "python",
   "name": "python3"
  },
  "language_info": {
   "codemirror_mode": {
    "name": "ipython",
    "version": 3
   },
   "file_extension": ".py",
   "mimetype": "text/x-python",
   "name": "python",
   "nbconvert_exporter": "python",
   "pygments_lexer": "ipython3",
   "version": "3.12.3"
  }
 },
 "nbformat": 4,
 "nbformat_minor": 2
}
