{
 "cells": [
  {
   "cell_type": "markdown",
   "metadata": {},
   "source": [
    "# PGD- AI, Python Programming\n",
    "## Final Examination\n",
    "\n",
    "\n",
    "**NAME:** Azeem Ullah Baig\n",
    "\n",
    "**CLASS:** PGD (Artificial Intelligence w/d Data Science)\n",
    "\n",
    "**PHONE:** 0347-2211009\n",
    "\n",
    "**EMAIL:**: azeem.mirza94@gmail.com\n",
    "\n",
    "**ORGANIZATION:** PowerHouse Technology\n",
    "\n"
   ]
  },
  {
   "cell_type": "markdown",
   "metadata": {},
   "source": [
    "### QUESTION 01:"
   ]
  },
  {
   "cell_type": "code",
   "execution_count": 7,
   "metadata": {},
   "outputs": [
    {
     "name": "stdout",
     "output_type": "stream",
     "text": [
      "List after appending 60, removing 20 and inserting 80 at index 2: [10, 30, 80, 40, 50, 60]\n",
      "Sum of the list:  270\n"
     ]
    }
   ],
   "source": [
    "# Given the list numbers = [10, 20, 30, 40, 50], write a Python code snippet to: ▪ Append the number 60 to the list. \n",
    "# Remove the number 20 from the list. \n",
    "# Insert 80 at index 2. \n",
    "# Print the sum of all the elements in the list. \n",
    "\n",
    "numbers = [10, 20, 30, 40, 50]\n",
    "\n",
    "numbers.append(60)\n",
    "numbers.remove(20)\n",
    "numbers.insert(2, 80)\n",
    "\n",
    "def sum(numbers):\n",
    "    total = 0\n",
    "    for number in numbers:\n",
    "        total += number\n",
    "    return total\n",
    "\n",
    "print(f'List after appending 60, removing 20 and inserting 80 at index 2: {numbers}')\n",
    "print(f'Sum of the list:  {sum(numbers)}')\n"
   ]
  },
  {
   "cell_type": "markdown",
   "metadata": {},
   "source": [
    "### QUESTION 02:"
   ]
  },
  {
   "cell_type": "code",
   "execution_count": 8,
   "metadata": {},
   "outputs": [
    {
     "name": "stdout",
     "output_type": "stream",
     "text": [
      "x: 12.5, y: 45.8, z: 33.1\n"
     ]
    }
   ],
   "source": [
    "\n",
    "# Consider the tuple coordinates = (12.5, 45.8, 33.1). \n",
    "# Write a Python code snippet to unpack the values of the tuple into three variables: `x`,  `y`, and `z`. \n",
    "# Explain why tuples are generally preferred over lists for storing fixed sets of data. \n",
    "\n",
    "coordinates = (12.5, 45.8, 33.1)\n",
    "x, y, z = coordinates\n",
    "\n",
    "print(f'x: {x}, y: {y}, z: {z}')\n",
    "\n",
    "# Why tuples are generally preferred over lists for storing fixed sets of data?\n",
    "\n",
    "# Tuples are generally preferred over lists for storing fixed sets of data because tuples are immutable,\n",
    "# meaning that the values in a tuple cannot be changed after the tuple is created. This makes tuples more secure\n",
    "# and less prone to accidental modification. Additionally, tuples are generally faster than lists because they are\n",
    "# simpler and more memory-efficient data structures. Finally, tuples are often used to represent fixed sets of data\n",
    "# that should not be changed, such as coordinates, configuration settings, or database records."
   ]
  },
  {
   "cell_type": "markdown",
   "metadata": {},
   "source": [
    "### QUESTION 03:"
   ]
  },
  {
   "cell_type": "code",
   "execution_count": 35,
   "metadata": {},
   "outputs": [
    {
     "name": "stdout",
     "output_type": "stream",
     "text": [
      "Students and their scores:\n",
      "Faraz: 85\n",
      "Raza: 82\n",
      "Ishaq: 78\n",
      "David: 92\n"
     ]
    }
   ],
   "source": [
    "# Given the dictionary `student_scores = {Faraz: 85, Raza: 90, Ishaq: 78}`:\n",
    "# Write a Python code snippet to add a new student `David` with a score of 92.\n",
    "# Update Raza's score to 82. \n",
    "# Write a code snippet to print all student names and their scores in the format: `Name:  Score`.\n",
    "\n",
    "student_scores = {'Faraz': 85, 'Raza': 90, 'Ishaq': 78}\n",
    "\n",
    "student_scores['David'] = 92\n",
    "student_scores['Raza'] = 82\n",
    "\n",
    "print('Students and their scores:')\n",
    "for name, score in student_scores.items():\n",
    "    print(f'{name}: {score}')\n",
    "\n"
   ]
  },
  {
   "cell_type": "markdown",
   "metadata": {},
   "source": [
    "### QUESTION 04:"
   ]
  },
  {
   "cell_type": "code",
   "execution_count": 36,
   "metadata": {},
   "outputs": [
    {
     "name": "stdout",
     "output_type": "stream",
     "text": [
      "Mean of the list:  30.0\n"
     ]
    }
   ],
   "source": [
    "# Write a Python function called `calculate_mean` that takes a list of numbers as input and  returns the mean (average) of the numbers.\n",
    "\n",
    "def calculate_mean(numbers):\n",
    "    total = 0\n",
    "    for number in numbers:\n",
    "        total += number\n",
    "    return total / len(numbers)\n",
    "\n",
    "numbers = [10, 20, 30, 40, 50]\n",
    "\n",
    "print(f'Mean of the list:  {calculate_mean(numbers)}')"
   ]
  },
  {
   "cell_type": "markdown",
   "metadata": {},
   "source": [
    "### QUESTION 05:"
   ]
  },
  {
   "cell_type": "code",
   "execution_count": 37,
   "metadata": {},
   "outputs": [
    {
     "name": "stdout",
     "output_type": "stream",
     "text": [
      "Students and their grades:\n",
      "Faraz: B\n",
      "Raza: B\n",
      "Ishaq: C\n",
      "David: A\n"
     ]
    }
   ],
   "source": [
    "# Write a Python function called `grade_students` that takes a dictionary of student names and  their scores, and returns a new dictionary with student names and their corresponding grades (A,  B, C, D, F). Use the following grading scale: \n",
    "# - A: 90-100 \n",
    "# - B: 80-89 \n",
    "# - C: 70-79\n",
    "# - D: 60-69 \n",
    "# - F: Below 60\n",
    "\n",
    "def grade_students(student_scores):\n",
    "    grades = {}\n",
    "    for name, score in student_scores.items():\n",
    "        if score >= 90:\n",
    "            grades[name] = 'A'\n",
    "        elif score >= 80:\n",
    "            grades[name] = 'B'\n",
    "        elif score >= 70:\n",
    "            grades[name] = 'C'\n",
    "        elif score >= 60:\n",
    "            grades[name] = 'D'\n",
    "        else:\n",
    "            grades[name] = 'F'\n",
    "    return grades\n",
    "\n",
    "grades = grade_students(student_scores)\n",
    "\n",
    "print('Students and their grades:')\n",
    "for name, grade in grades.items():\n",
    "    print(f'{name}: {grade}')\n"
   ]
  },
  {
   "cell_type": "markdown",
   "metadata": {},
   "source": [
    "### QUESTION 06:"
   ]
  },
  {
   "cell_type": "code",
   "execution_count": 38,
   "metadata": {},
   "outputs": [
    {
     "name": "stdout",
     "output_type": "stream",
     "text": [
      "First 5 rows:\n",
      "      Name  Age  Salary\n",
      "0    Alice   28   70000\n",
      "1      Bob   34   80000\n",
      "2  Charlie   29   65000\n",
      "3    David   40  120000\n",
      "4      Eva   22   50000\n",
      "\n",
      "Last 5 rows:\n",
      "     Name  Age  Salary\n",
      "5   Frank   36   95000\n",
      "6   Grace   30   72000\n",
      "7  Hannah   25   60000\n",
      "8     Ian   45  130000\n",
      "9    Jack   38  110000\n",
      "Mean Salary: 85200.0\n",
      "Missing values:\n",
      "Name      0\n",
      "Age       0\n",
      "Salary    0\n",
      "dtype: int64\n"
     ]
    }
   ],
   "source": [
    "# Given a CSV file named `data.csv` with columns `Name`, `Age`, and `Salary`, write a Python  code snippet using pandas to: \n",
    "# Load the CSV file into a DataFrame. \n",
    "# Display the first and last 5 rows of the DataFrame. \n",
    "# Print the mean salary and see if any missing values present visualize the missing values if  there.\n",
    "\n",
    "import pandas as pd\n",
    "\n",
    "# Load the CSV file into a DataFrame\n",
    "df = pd.read_csv('./dataset.csv')\n",
    "\n",
    "# Display the first and last 5 rows of the DataFrame\n",
    "print('First 5 rows:')\n",
    "print(df.head())\n",
    "print('\\nLast 5 rows:')\n",
    "print(df.tail())\n",
    "\n",
    "# Print the mean salary\n",
    "mean_salary = df['Salary'].mean()\n",
    "print(f'Mean Salary: {mean_salary}')\n",
    "\n",
    "# Check for missing values\n",
    "missing_values = df.isnull().sum()\n",
    "print('Missing values:')\n",
    "print(missing_values)\n",
    "\n"
   ]
  },
  {
   "cell_type": "markdown",
   "metadata": {},
   "source": [
    "### QUESTION 07:"
   ]
  },
  {
   "cell_type": "code",
   "execution_count": 39,
   "metadata": {},
   "outputs": [
    {
     "name": "stdout",
     "output_type": "stream",
     "text": [
      "Mean Age: 32.7\n",
      "Median Age: 32.0\n",
      "Standard Deviation of Age: 7.165503781622367\n"
     ]
    }
   ],
   "source": [
    "# Using the DataFrame from Question 6, write a Python code snippet to: \n",
    "# Calculate and print summary statistics for the `Age` column\n",
    "\n",
    "age_mean = df['Age'].mean()\n",
    "age_median = df['Age'].median()\n",
    "age_std = df['Age'].std()\n",
    "\n",
    "print(f\"Mean Age: {age_mean}\")\n",
    "print(f\"Median Age: {age_median}\")\n",
    "print(f\"Standard Deviation of Age: {age_std}\")\n",
    "\n"
   ]
  },
  {
   "cell_type": "markdown",
   "metadata": {},
   "source": [
    "### QUESTION 08:"
   ]
  },
  {
   "cell_type": "code",
   "execution_count": 40,
   "metadata": {},
   "outputs": [
    {
     "name": "stdout",
     "output_type": "stream",
     "text": [
      "Employees older than 30:\n",
      "    Name  Age  Salary\n",
      "1    Bob   34   80000\n",
      "3  David   40  120000\n",
      "5  Frank   36   95000\n",
      "8    Ian   45  130000\n",
      "9   Jack   38  110000\n"
     ]
    }
   ],
   "source": [
    "# Filter and print the records of employees who are older than 30 years. \n",
    "\n",
    "older_than_30 = df[df['Age'] > 30]\n",
    "\n",
    "print('Employees older than 30:')\n",
    "print(older_than_30)\n"
   ]
  },
  {
   "cell_type": "markdown",
   "metadata": {},
   "source": [
    "### QUESTION 09:"
   ]
  },
  {
   "cell_type": "code",
   "execution_count": 41,
   "metadata": {},
   "outputs": [
    {
     "name": "stdout",
     "output_type": "stream",
     "text": [
      "Mean Salary by Age:\n",
      "Age\n",
      "22     50000.0\n",
      "25     60000.0\n",
      "28     70000.0\n",
      "29     65000.0\n",
      "30     72000.0\n",
      "34     80000.0\n",
      "36     95000.0\n",
      "38    110000.0\n",
      "40    120000.0\n",
      "45    130000.0\n",
      "Name: Salary, dtype: float64\n"
     ]
    }
   ],
   "source": [
    "# Group the data by `Age` and calculate the mean salary for each age group.\n",
    "# Print the result.\n",
    "\n",
    "mean_salary_by_age = df.groupby('Age')['Salary'].mean()\n",
    "\n",
    "print('Mean Salary by Age:')\n",
    "print(mean_salary_by_age)\n"
   ]
  },
  {
   "cell_type": "markdown",
   "metadata": {},
   "source": [
    "### QUESTION 10:"
   ]
  },
  {
   "cell_type": "code",
   "execution_count": 42,
   "metadata": {},
   "outputs": [
    {
     "name": "stdout",
     "output_type": "stream",
     "text": [
      "DataFrame:\n",
      "      Name  Age  Salary\n",
      "0    Alice   28   70000\n",
      "1      Bob   34   80000\n",
      "2  Charlie   29   65000\n",
      "3    David   40  120000\n",
      "4      Eva   22   50000\n",
      "5    Frank   36   95000\n",
      "6    Grace   30   72000\n",
      "7   Hannah   25   60000\n",
      "8      Ian   45  130000\n",
      "9     Jack   38  110000\n",
      "\n",
      "Summary Statistics:\n",
      "             Age         Salary\n",
      "count  10.000000      10.000000\n",
      "mean   32.700000   85200.000000\n",
      "std     7.165504   27169.427263\n",
      "min    22.000000   50000.000000\n",
      "25%    28.250000   66250.000000\n",
      "50%    32.000000   76000.000000\n",
      "75%    37.500000  106250.000000\n",
      "max    45.000000  130000.000000\n"
     ]
    }
   ],
   "source": [
    "# Write a Python function called `load_and_describe_csv` that: \n",
    "# Takes the filename of a CSV file as input. \n",
    "# Loads the CSV file into a pandas DataFrame. \n",
    "# Returns the DataFrame and its summary statistics. \n",
    "\n",
    "def load_and_describe_csv(filename):\n",
    "    df = pd.read_csv(filename)\n",
    "    summary_statistics = df.describe()\n",
    "    return df, summary_statistics\n",
    "\n",
    "filename = 'dataset.csv'\n",
    "df, summary_statistics = load_and_describe_csv(filename)\n",
    "\n",
    "print('DataFrame:')\n",
    "print(df)\n",
    "\n",
    "print('\\nSummary Statistics:')\n",
    "print(summary_statistics)\n",
    "\n"
   ]
  }
 ],
 "metadata": {
  "kernelspec": {
   "display_name": "env",
   "language": "python",
   "name": "python3"
  },
  "language_info": {
   "codemirror_mode": {
    "name": "ipython",
    "version": 3
   },
   "file_extension": ".py",
   "mimetype": "text/x-python",
   "name": "python",
   "nbconvert_exporter": "python",
   "pygments_lexer": "ipython3",
   "version": "3.12.4"
  }
 },
 "nbformat": 4,
 "nbformat_minor": 2
}
