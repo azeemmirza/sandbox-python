{
 "cells": [
  {
   "cell_type": "code",
   "execution_count": null,
   "metadata": {},
   "outputs": [],
   "source": [
    "import urllib.request as ur\n",
    "from bs4 import *\n",
    "\n",
    "current_repeat_count = 0\n",
    "url = input('Enter URL: ')\n",
    "repeat_count = int(input('Enter count: '))\n",
    "position = int(input('Enter position: '))\n",
    "\n",
    "\n",
    "def parse_html(url):\n",
    "    html = ur.urlopen(url).read()\n",
    "    soup = BeautifulSoup(html, 'html.parser')\n",
    "    tags = soup('a')\n",
    "    return tags\n",
    "\n",
    "while current_repeat_count < repeat_count:\n",
    "    print('Retrieving: ', url)\n",
    "    tags = parse_html(url)\n",
    "    for index, item in enumerate(tags):\n",
    "        if index == position - 1:\n",
    "            url = item.get('href', None)\n",
    "            name = item.contents[0]\n",
    "            break\n",
    "        else:\n",
    "            continue\n",
    "    current_repeat_count += 1\n",
    "print('Last Url: ', url)"
   ]
  },
  {
   "cell_type": "code",
   "execution_count": null,
   "metadata": {},
   "outputs": [],
   "source": [
    "import urllib.request as ur\n",
    "from bs4 import *\n",
    "\n",
    "url = input('Enter the url to scrape - ')\n",
    "\n",
    "html = ur.urlopen(url).read()\n",
    "soup = BeautifulSoup(html, 'html.parser')\n",
    "\n",
    "count_of_spans = 0\n",
    "sum = 0\n",
    "\n",
    "spans = soup('span')\n",
    "for span in spans:\n",
    "    sum += int(span.contents[0])\n",
    "    count_of_spans += 1\n",
    "\n",
    "print('Count ', count_of_spans)\n",
    "print('Sum ', sum)"
   ]
  },
  {
   "cell_type": "markdown",
   "metadata": {},
   "source": [
    "### Assignment 05:"
   ]
  },
  {
   "cell_type": "code",
   "execution_count": 1,
   "metadata": {},
   "outputs": [
    {
     "name": "stdout",
     "output_type": "stream",
     "text": [
      "Retrieving http://python-data.dr-chuck.net/comments_42.xml\n",
      "Retrieved 4189 characters\n",
      "Count: 50\n",
      "Sum: 2553\n"
     ]
    },
    {
     "ename": "",
     "evalue": "",
     "output_type": "error",
     "traceback": [
      "\u001b[1;31mThe Kernel crashed while executing code in the current cell or a previous cell. \n",
      "\u001b[1;31mPlease review the code in the cell(s) to identify a possible cause of the failure. \n",
      "\u001b[1;31mClick <a href='https://aka.ms/vscodeJupyterKernelCrash'>here</a> for more info. \n",
      "\u001b[1;31mView Jupyter <a href='command:jupyter.viewOutput'>log</a> for further details."
     ]
    }
   ],
   "source": [
    "import urllib.request as ur\n",
    "import xml.etree.ElementTree as et\n",
    "\n",
    "url = input('Enter location: ')\n",
    "# 'http://python-data.dr-chuck.net/comments_42.xml'\n",
    "\n",
    "total_number = 0\n",
    "sum = 0\n",
    "\n",
    "print('Retrieving', url)\n",
    "xml = ur.urlopen(url).read()\n",
    "print('Retrieved', len(xml), 'characters')\n",
    "\n",
    "tree = et.fromstring(xml)\n",
    "counts = tree.findall('.//count')\n",
    "for count in counts:\n",
    "    sum += int(count.text)\n",
    "    total_number += 1\n",
    "\n",
    "print('Count:', total_number)\n",
    "print('Sum:', sum)"
   ]
  },
  {
   "cell_type": "code",
   "execution_count": null,
   "metadata": {},
   "outputs": [],
   "source": [
    "import urllib.request, urllib.parse, urllib.error\n",
    "import json\n",
    "import ssl\n",
    "\n",
    "api_key = False\n",
    "# If you have a Google Places API key, enter it here\n",
    "# api_key = 'AIzaSy___IDByT70'\n",
    "# https://developers.google.com/maps/documentation/geocoding/intro\n",
    "\n",
    "if api_key is False:\n",
    "    api_key = 42\n",
    "    serviceurl = 'http://py4e-data.dr-chuck.net/json?'\n",
    "else :\n",
    "    serviceurl = 'https://maps.googleapis.com/maps/api/geocode/json?'\n",
    "\n",
    "# Ignore SSL certificate errors\n",
    "ctx = ssl.create_default_context()\n",
    "ctx.check_hostname = False\n",
    "ctx.verify_mode = ssl.CERT_NONE\n",
    "\n",
    "while True:\n",
    "    address = input('Enter location: ')\n",
    "    if len(address) < 1: break\n",
    "\n",
    "    parms = dict()\n",
    "    parms['address'] = address\n",
    "    if api_key is not False: parms['key'] = api_key\n",
    "    url = serviceurl + urllib.parse.urlencode(parms)\n",
    "\n",
    "    print('Retrieving', url)\n",
    "    uh = urllib.request.urlopen(url, context=ctx)\n",
    "    data = uh.read().decode()\n",
    "    print('Retrieved', len(data), 'characters')\n",
    "\n",
    "    try:\n",
    "        js = json.loads(data)\n",
    "    except:\n",
    "        js = None\n",
    "\n",
    "    if not js or 'status' not in js or js['status'] != 'OK':\n",
    "        print('==== Failure To Retrieve ====')\n",
    "        print(data)\n",
    "        continue\n",
    "\n",
    "    print(json.dumps(js, indent=4))\n",
    "\n",
    "    lat = js['results'][0]['geometry']['location']['lat']\n",
    "    lng = js['results'][0]['geometry']['location']['lng']\n",
    "    print('lat', lat, 'lng', lng)\n",
    "    location = js['results'][0]['formatted_address']\n",
    "    print(location)"
   ]
  },
  {
   "cell_type": "code",
   "execution_count": null,
   "metadata": {},
   "outputs": [],
   "source": [
    "import urllib.request as ur\n",
    "import json\n",
    "\n",
    "# json_url = 'http://python-data.dr-chuck.net/comments_42.json'\n",
    "\n",
    "json_url = input(\"Enter location: \")\n",
    "print(\"Retrieving \", json_url)\n",
    "data = ur.urlopen(json_url).read().decode('utf-8')\n",
    "print('Retrieved', len(data), 'characters')\n",
    "json_obj = json.loads(data)\n",
    "\n",
    "sum = 0\n",
    "total_number = 0\n",
    "\n",
    "for comment in json_obj[\"comments\"]:\n",
    "    sum += int(comment[\"count\"])\n",
    "    total_number += 1\n",
    "\n",
    "print('Count:', total_number)\n",
    "print('Sum:', sum)"
   ]
  }
 ],
 "metadata": {
  "kernelspec": {
   "display_name": "Python 3",
   "language": "python",
   "name": "python3"
  },
  "language_info": {
   "codemirror_mode": {
    "name": "ipython",
    "version": 3
   },
   "file_extension": ".py",
   "mimetype": "text/x-python",
   "name": "python",
   "nbconvert_exporter": "python",
   "pygments_lexer": "ipython3",
   "version": "3.12.3"
  }
 },
 "nbformat": 4,
 "nbformat_minor": 2
}
